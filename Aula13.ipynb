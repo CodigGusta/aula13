{
  "nbformat": 4,
  "nbformat_minor": 0,
  "metadata": {
    "colab": {
      "provenance": [],
      "mount_file_id": "1bM2UPvTaSh2Pxaw35lveq4XnBaFS60Co",
      "authorship_tag": "ABX9TyPmql4+Tpr/zO49OOCW6BFG",
      "include_colab_link": true
    },
    "kernelspec": {
      "name": "python3",
      "display_name": "Python 3"
    },
    "language_info": {
      "name": "python"
    }
  },
  "cells": [
    {
      "cell_type": "markdown",
      "metadata": {
        "id": "view-in-github",
        "colab_type": "text"
      },
      "source": [
        "<a href=\"https://colab.research.google.com/github/CodigGusta/aula13/blob/main/Aula13.ipynb\" target=\"_parent\"><img src=\"https://colab.research.google.com/assets/colab-badge.svg\" alt=\"Open In Colab\"/></a>"
      ]
    },
    {
      "cell_type": "code",
      "execution_count": null,
      "metadata": {
        "colab": {
          "base_uri": "https://localhost:8080/"
        },
        "id": "v-FbvEoqmfLx",
        "outputId": "61e365bc-7ea0-4c38-abf5-f75faa396d0e"
      },
      "outputs": [
        {
          "output_type": "stream",
          "name": "stdout",
          "text": [
            "11 11\n",
            "São iguais em comprimento\n"
          ]
        }
      ],
      "source": [
        "# #Aula 13\n",
        "# cidade = 'Gru'\n",
        "# end = 'Rua Andradina'\n",
        "# compl = cidade + end\n",
        "# print(cidade.startswith('Gr'))\n",
        "# print(cidade.endswith('ru'))        }#Verificar se existe string\n",
        "# print('Rua' in compl)\n",
        "# print('Ave' not in compl)\n",
        "\n",
        "# text = 'Python é uma linguagem de programação, simples e organizado.'\n",
        "# print(text.count('é'))\n",
        "# print(text.find('Python', 25, 50))\n",
        "# print(text.rfind('lingua'))\n",
        "# print(text.index('é'))\n",
        "# print(text.rindex('é'))\n",
        "\n",
        "# texto = 'Olá Mundo!'\n",
        "# print(texto)\n",
        "# texto_centro = texto.center(20)\n",
        "# texto_centro_2 = texto.center(20,'=')\n",
        "# texto_esquerda = texto.ljust(10)\n",
        "# texto_direita = texto.rjust(150)\n",
        "# # print(texto_direita)\n",
        "# print(f'**{texto_esquerda}*{texto_direita}**')\n",
        "\n",
        "\n",
        "# nomes = 'João Paulo\\Maria Paula\\Ana Bea\\José Pedro '\n",
        "# print(nomes.split('\\'))\n",
        "\n",
        "\n",
        "\n",
        "# nomes = 'João Paulo\\nMaria Paula\\nAna Bea\\nJosé Pedro '\n",
        "# print(nomes.splitlines())\n",
        "\n",
        "# f = 'A força eletromotriz induzida em qualquer circuito fechado é igual ao negativo da variação de fluxo magnético cpm o tempo na área delimitada pelo circuito'\n",
        "# f1 = f.replace('força','Bicicleta')\n",
        "# f2 = f.replace(' ','#')\n",
        "# print(f1)\n",
        "# print(f2)\n",
        "\n",
        "# a = '  Olá mundo    '\n",
        "# print(f'*{a}*')\n",
        "# b = a.strip()\n",
        "# print(f'*{b}*')\n",
        "# c = a.lstrip()\n",
        "# print(f'*{c}*')\n",
        "# d = a.rstrip()\n",
        "# print(f'*{d}*')\n",
        "\n",
        "#  Exercício 1: Escreva um programa que verifique se a palavra \"python\"\n",
        "# está presente na string \"Estou aprendendo Python\".\n",
        "\n",
        "# est = \"Estou aprendendo Python\"\n",
        "# print('Python' in est)\n",
        "\n",
        "# # exercício 2: Escreva um programa que peça ao usuário para digitar\n",
        "# # seu nome e verifique se o nome começa com a letra \"A\" (maiúscula ou minúscula).\n",
        "# no = input('Digite seu nome')\n",
        "# print(no.lower().startswith('a'))\n",
        "\n",
        "# # Exercício 3: Escreva um programa que peça ao usuário para digitar uma\n",
        "# # senha e verifique se a senha contém pelo menos 8 caracteres.\n",
        "\n",
        "# senha = input('Digite sua senha')\n",
        "\n",
        "# quant = senha.count('')\n",
        "# if quant >=8:\n",
        "#   print('sua senha tem 8 ou mais caracteres')\n",
        "# else:\n",
        "#   print('sua senha tem menos de 8 caracteres')\n",
        "\n",
        "# # Exercício 4: Escreva um programa que peça ao usuário para digitar\n",
        "# # um número e verifique se o número é uma representação numérica (não contém\n",
        "# # letras ou símbolos).\n",
        "\n",
        "# nm = input('Digite um numero')\n",
        "# if nm.isnumeric():\n",
        "#   print('Numero Válido')\n",
        "# else:\n",
        "#   print('Invalido')\n",
        "# Exercício 5: Escreva um programa que peça ao usuário para digitar uma frase\n",
        "# e conte quantas vezes a letra \"a\" (maiúscula ou minúscula) aparece na frase.\n",
        "# bnv = input('Digite uma frase ')\n",
        "# nnn = bnv.lower().count('a')\n",
        "# print(nnn)\n",
        "# 6\n",
        "# Faça um programa que leia 2 strings e informe o conteúdo delas seguido do seu\n",
        "# comprimento. Informe também se as duas strings possuem o mesmo\n",
        "# comprimento e são iguais ou diferentes no conteúdo.\n",
        "# v1 = 'Hello wolrd'\n",
        "# v2 = 'Hello india'\n",
        "# contar = len(v1)\n",
        "# contar2 = len(v2)\n",
        "# print(contar,contar2)\n",
        "\n",
        "# if contar == contar2:\n",
        "#   print('São iguais em comprimento')\n",
        "# else:\n",
        "#   print('não tem o mesmo comprimento')\n",
        "# 7\n",
        "\n",
        "# Faça um programa que solicite o nome do usuário e imprima-o na vera\n",
        "# a = input('Digite seu nome')\n",
        "# for i in a:\n",
        "#   print(i)\n",
        "\n",
        "\n"
      ]
    }
  ]
}